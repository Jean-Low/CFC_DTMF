{
 "cells": [
  {
   "cell_type": "code",
   "execution_count": null,
   "metadata": {
    "collapsed": true
   },
   "outputs": [],
   "source": [
    "import sounddevice as sd\n",
    "import numpy as np\n",
    "import math\n",
    "import matplotlib.pyplot as plt\n",
    "\n",
    "\n",
    "fs = 44100\n",
    "\n",
    "def recordSound(duration):\n",
    "    print(\"recording for the next \" , duration , \" seconds\")\n",
    "    audio = sd.rec(int(duration*fs), fs, channels=4)\n",
    "    sd.wait()\n",
    "    return audio[:,0]\n",
    "\n",
    "def playSound(sound):\n",
    "    print(\"playing audio\")\n",
    "    sd.play(sound, fs)\n",
    "    sd.wait()\n",
    "\n",
    "def generateWave(input,duration): \n",
    "    #np.linspace(0,duration,fs * duration)\n",
    "    \n",
    "    sound = [0] * duration * fs\n",
    "    for i in sound:\n",
    "        sound[i] = np.sin(2*math.pi  * 5 * (i/fs))\n",
    "    \n",
    "    print('plotiong')\n",
    "    plt.plot(np.arange(duration*fs),sound)\n",
    "\n",
    "#playSound(recordSound(4))\n",
    "generateWave(3,1)"
   ]
  }
 ],
 "metadata": {
  "kernelspec": {
   "display_name": "Python 3",
   "language": "python",
   "name": "python3"
  }
 },
 "nbformat": 4,
 "nbformat_minor": 0
}
